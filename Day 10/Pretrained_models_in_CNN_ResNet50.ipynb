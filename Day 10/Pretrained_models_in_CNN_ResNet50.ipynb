{
  "nbformat": 4,
  "nbformat_minor": 0,
  "metadata": {
    "colab": {
      "provenance": [],
      "gpuType": "T4"
    },
    "kernelspec": {
      "name": "python3",
      "display_name": "Python 3"
    },
    "language_info": {
      "name": "python"
    },
    "accelerator": "GPU"
  },
  "cells": [
    {
      "cell_type": "code",
      "source": [
        "from tensorflow.keras.applications.resnet50 import ResNet50  # Importing ResNet50 model architecture\n",
        "from tensorflow.keras.preprocessing import image  # Module for image preprocessing\n",
        "from tensorflow.keras.applications.resnet50 import preprocess_input, decode_predictions  # Functions for preprocessing input and decoding predictions\n",
        "import numpy as np  # NumPy for numerical operations\n"
      ],
      "metadata": {
        "id": "-L3PZ5ABBd4g"
      },
      "execution_count": 1,
      "outputs": []
    },
    {
      "cell_type": "code",
      "source": [
        "# Load the ResNet50 model pre-trained on ImageNet, including the fully connected (FC) layer at the top for classification\n",
        "model = ResNet50(weights='imagenet')"
      ],
      "metadata": {
        "colab": {
          "base_uri": "https://localhost:8080/"
        },
        "id": "kKqF2llEEdhH",
        "outputId": "55143688-fde8-4643-aa3c-6de171619e7d"
      },
      "execution_count": 2,
      "outputs": [
        {
          "output_type": "stream",
          "name": "stdout",
          "text": [
            "Downloading data from https://storage.googleapis.com/tensorflow/keras-applications/resnet/resnet50_weights_tf_dim_ordering_tf_kernels.h5\n",
            "\u001b[1m102967424/102967424\u001b[0m \u001b[32m━━━━━━━━━━━━━━━━━━━━\u001b[0m\u001b[37m\u001b[0m \u001b[1m5s\u001b[0m 0us/step\n"
          ]
        }
      ]
    },
    {
      "cell_type": "code",
      "execution_count": 3,
      "metadata": {
        "id": "Qqh6c9u5EF8j"
      },
      "outputs": [],
      "source": [
        "img_path = '/content/images (3).jpg'  # Path to the input image\n",
        "\n",
        "# Load the image from the specified path and resize it to 224x224 pixels,\n",
        "# which is the required input size for ResNet50\n",
        "img = image.load_img(img_path, target_size=(224, 224))\n",
        "\n",
        "# Convert the PIL image to a NumPy array\n",
        "x = image.img_to_array(img)\n",
        "\n",
        "# Expand the dimensions of the image array to match the shape (1, 224, 224, 3),\n",
        "# adding a batch dimension as the model expects input in batches\n",
        "x = np.expand_dims(x, axis=0)\n",
        "\n",
        "# Preprocess the image data to match the input format required by ResNet50\n",
        "# (e.g., scaling pixel values and mean subtraction)\n",
        "x = preprocess_input(x)\n"
      ]
    },
    {
      "cell_type": "code",
      "source": [
        "# Use the ResNet50 model to make a prediction on the preprocessed image\n",
        "preds = model.predict(x)\n",
        "\n",
        "# Decode the model's prediction into human-readable class labels\n",
        "# and print the top 3 predicted classes with their probabilities\n",
        "print('Predicted:', decode_predictions(preds, top=3)[0])"
      ],
      "metadata": {
        "colab": {
          "base_uri": "https://localhost:8080/"
        },
        "id": "4OJyGpIvFVVf",
        "outputId": "22b7a3db-a802-4a6d-df3c-bd987a36e3f1"
      },
      "execution_count": 5,
      "outputs": [
        {
          "output_type": "stream",
          "name": "stdout",
          "text": [
            "\u001b[1m1/1\u001b[0m \u001b[32m━━━━━━━━━━━━━━━━━━━━\u001b[0m\u001b[37m\u001b[0m \u001b[1m0s\u001b[0m 45ms/step\n",
            "Predicted: [('n02099601', 'golden_retriever', np.float32(0.6959128)), ('n02099712', 'Labrador_retriever', np.float32(0.053102773)), ('n02113712', 'miniature_poodle', np.float32(0.040459108))]\n"
          ]
        }
      ]
    }
  ]
}