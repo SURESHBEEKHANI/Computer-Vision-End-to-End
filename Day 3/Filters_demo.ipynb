{
  "cells": [
    {
      "cell_type": "code",
      "execution_count": 2,
      "metadata": {
        "id": "JSOM7SqfFiGg"
      },
      "outputs": [],
      "source": [
        "import matplotlib.pyplot as plt\n",
        "import matplotlib.image as mpimg # image related ops\n",
        "import numpy as np\n",
        "import cv2 # opencv lib"
      ]
    },
    {
      "cell_type": "code",
      "execution_count": 10,
      "metadata": {
        "id": "sumPJq7XF-sk"
      },
      "outputs": [],
      "source": [
        "img_path = \"/Day 2/resources/car1.jpeg\""
      ]
    },
    {
      "cell_type": "code",
      "execution_count": 12,
      "metadata": {
        "id": "GQHTVgTrF-qU"
      },
      "outputs": [
        {
          "ename": "FileNotFoundError",
          "evalue": "[Errno 2] No such file or directory: '/Day 2/resources/car1.jpeg'",
          "output_type": "error",
          "traceback": [
            "\u001b[31m---------------------------------------------------------------------------\u001b[39m",
            "\u001b[31mFileNotFoundError\u001b[39m                         Traceback (most recent call last)",
            "\u001b[36mCell\u001b[39m\u001b[36m \u001b[39m\u001b[32mIn[12]\u001b[39m\u001b[32m, line 1\u001b[39m\n\u001b[32m----> \u001b[39m\u001b[32m1\u001b[39m car1 = \u001b[43mmpimg\u001b[49m\u001b[43m.\u001b[49m\u001b[43mimread\u001b[49m\u001b[43m(\u001b[49m\u001b[43mimg_path\u001b[49m\u001b[43m)\u001b[49m\n",
            "\u001b[36mFile \u001b[39m\u001b[32mf:\\Computer-Vision-End-to-End\\.venv\\Lib\\site-packages\\matplotlib\\image.py:1512\u001b[39m, in \u001b[36mimread\u001b[39m\u001b[34m(fname, format)\u001b[39m\n\u001b[32m   1505\u001b[39m \u001b[38;5;28;01mif\u001b[39;00m \u001b[38;5;28misinstance\u001b[39m(fname, \u001b[38;5;28mstr\u001b[39m) \u001b[38;5;129;01mand\u001b[39;00m \u001b[38;5;28mlen\u001b[39m(parse.urlparse(fname).scheme) > \u001b[32m1\u001b[39m:\n\u001b[32m   1506\u001b[39m     \u001b[38;5;66;03m# Pillow doesn't handle URLs directly.\u001b[39;00m\n\u001b[32m   1507\u001b[39m     \u001b[38;5;28;01mraise\u001b[39;00m \u001b[38;5;167;01mValueError\u001b[39;00m(\n\u001b[32m   1508\u001b[39m         \u001b[33m\"\u001b[39m\u001b[33mPlease open the URL for reading and pass the \u001b[39m\u001b[33m\"\u001b[39m\n\u001b[32m   1509\u001b[39m         \u001b[33m\"\u001b[39m\u001b[33mresult to Pillow, e.g. with \u001b[39m\u001b[33m\"\u001b[39m\n\u001b[32m   1510\u001b[39m         \u001b[33m\"\u001b[39m\u001b[33m``np.array(PIL.Image.open(urllib.request.urlopen(url)))``.\u001b[39m\u001b[33m\"\u001b[39m\n\u001b[32m   1511\u001b[39m         )\n\u001b[32m-> \u001b[39m\u001b[32m1512\u001b[39m \u001b[38;5;28;01mwith\u001b[39;00m \u001b[43mimg_open\u001b[49m\u001b[43m(\u001b[49m\u001b[43mfname\u001b[49m\u001b[43m)\u001b[49m \u001b[38;5;28;01mas\u001b[39;00m image:\n\u001b[32m   1513\u001b[39m     \u001b[38;5;28;01mreturn\u001b[39;00m (_pil_png_to_float_array(image)\n\u001b[32m   1514\u001b[39m             \u001b[38;5;28;01mif\u001b[39;00m \u001b[38;5;28misinstance\u001b[39m(image, PIL.PngImagePlugin.PngImageFile) \u001b[38;5;28;01melse\u001b[39;00m\n\u001b[32m   1515\u001b[39m             pil_to_array(image))\n",
            "\u001b[36mFile \u001b[39m\u001b[32mf:\\Computer-Vision-End-to-End\\.venv\\Lib\\site-packages\\PIL\\Image.py:3505\u001b[39m, in \u001b[36mopen\u001b[39m\u001b[34m(fp, mode, formats)\u001b[39m\n\u001b[32m   3502\u001b[39m     filename = os.fspath(fp)\n\u001b[32m   3504\u001b[39m \u001b[38;5;28;01mif\u001b[39;00m filename:\n\u001b[32m-> \u001b[39m\u001b[32m3505\u001b[39m     fp = \u001b[43mbuiltins\u001b[49m\u001b[43m.\u001b[49m\u001b[43mopen\u001b[49m\u001b[43m(\u001b[49m\u001b[43mfilename\u001b[49m\u001b[43m,\u001b[49m\u001b[43m \u001b[49m\u001b[33;43m\"\u001b[39;49m\u001b[33;43mrb\u001b[39;49m\u001b[33;43m\"\u001b[39;49m\u001b[43m)\u001b[49m\n\u001b[32m   3506\u001b[39m     exclusive_fp = \u001b[38;5;28;01mTrue\u001b[39;00m\n\u001b[32m   3507\u001b[39m \u001b[38;5;28;01melse\u001b[39;00m:\n",
            "\u001b[31mFileNotFoundError\u001b[39m: [Errno 2] No such file or directory: '/Day 2/resources/car1.jpeg'"
          ]
        }
      ],
      "source": [
        "car1 = mpimg.imread(img_path)"
      ]
    },
    {
      "cell_type": "code",
      "execution_count": null,
      "metadata": {
        "colab": {
          "base_uri": "https://localhost:8080/",
          "height": 209
        },
        "id": "fm4kaoh6F-nz",
        "outputId": "8838b698-4b12-4bc8-8fa2-6ea3475b84bc"
      },
      "outputs": [],
      "source": [
        "car1"
      ]
    },
    {
      "cell_type": "code",
      "execution_count": null,
      "metadata": {
        "colab": {
          "base_uri": "https://localhost:8080/",
          "height": 360
        },
        "id": "oTnxDE_hF-lU",
        "outputId": "31b8ef92-ba59-4468-89c1-e8cc61d1dad3"
      },
      "outputs": [],
      "source": [
        "plt.imshow(car1)"
      ]
    },
    {
      "cell_type": "code",
      "execution_count": null,
      "metadata": {
        "colab": {
          "base_uri": "https://localhost:8080/"
        },
        "id": "7UkHq5R8GT3E",
        "outputId": "08525d01-63f2-42d9-cc3d-8c02ccf9475b"
      },
      "outputs": [],
      "source": [
        "car1.shape"
      ]
    },
    {
      "cell_type": "code",
      "execution_count": null,
      "metadata": {
        "id": "h3dBoAzcGT0z"
      },
      "outputs": [],
      "source": [
        "car1_cv2 = cv2.imread(img_path)"
      ]
    },
    {
      "cell_type": "code",
      "execution_count": null,
      "metadata": {
        "colab": {
          "base_uri": "https://localhost:8080/",
          "height": 209
        },
        "id": "myldukO2GTyc",
        "outputId": "18429d08-764e-4621-af94-dd91a3888300"
      },
      "outputs": [],
      "source": [
        "car1_cv2"
      ]
    },
    {
      "cell_type": "markdown",
      "metadata": {
        "id": "ihI7elLlGzjU"
      },
      "source": [
        "1. OpenCV reads - BGR\n",
        "2. Matplotlib reads - RGB"
      ]
    },
    {
      "cell_type": "code",
      "execution_count": null,
      "metadata": {
        "id": "k8CMeeKLGlqU"
      },
      "outputs": [],
      "source": [
        "from google.colab.patches import cv2_imshow"
      ]
    },
    {
      "cell_type": "code",
      "execution_count": null,
      "metadata": {
        "colab": {
          "base_uri": "https://localhost:8080/",
          "height": 360
        },
        "id": "voGBXWAzGllc",
        "outputId": "2a08d0b5-d9f8-40cc-8552-e07085040dc9"
      },
      "outputs": [],
      "source": [
        "plt.imshow(car1_cv2)"
      ]
    },
    {
      "cell_type": "code",
      "execution_count": null,
      "metadata": {
        "colab": {
          "base_uri": "https://localhost:8080/",
          "height": 360
        },
        "id": "BKecv53vGw3r",
        "outputId": "d0ff6f72-75a3-4109-f6de-e38ca0a0ba40"
      },
      "outputs": [],
      "source": [
        "car1_cv2_BGR_RGB = cv2.cvtColor(car1_cv2, cv2.COLOR_BGR2RGB)\n",
        "plt.imshow(car1_cv2_BGR_RGB)"
      ]
    },
    {
      "cell_type": "code",
      "execution_count": null,
      "metadata": {
        "colab": {
          "base_uri": "https://localhost:8080/",
          "height": 360
        },
        "id": "Q44HKRAhGw1c",
        "outputId": "c806ca97-bf57-43b2-b565-439dc5391a93"
      },
      "outputs": [],
      "source": [
        "car1_cv2_BGR_GRAY = cv2.cvtColor(car1_cv2, cv2.COLOR_BGR2GRAY)\n",
        "plt.imshow(car1_cv2_BGR_GRAY, cmap=\"gray\")"
      ]
    },
    {
      "cell_type": "code",
      "execution_count": null,
      "metadata": {
        "colab": {
          "base_uri": "https://localhost:8080/"
        },
        "id": "bn4xL8ecHJwM",
        "outputId": "58aad0cc-7d93-4b2b-a27d-9d73f7618e11"
      },
      "outputs": [],
      "source": [
        "car1_cv2_BGR_GRAY.shape"
      ]
    },
    {
      "cell_type": "code",
      "execution_count": null,
      "metadata": {
        "colab": {
          "base_uri": "https://localhost:8080/"
        },
        "id": "mNpvyHHAHOks",
        "outputId": "12e8fe80-8286-409c-e504-acc1f80d84ab"
      },
      "outputs": [],
      "source": [
        "car1_cv2_BGR_GRAY.min()"
      ]
    },
    {
      "cell_type": "code",
      "execution_count": null,
      "metadata": {
        "colab": {
          "base_uri": "https://localhost:8080/"
        },
        "id": "QmOhbKp2HLgE",
        "outputId": "469e879a-787b-4942-bbed-7b5588400872"
      },
      "outputs": [],
      "source": [
        "car1_cv2_BGR_GRAY.max()"
      ]
    },
    {
      "cell_type": "markdown",
      "metadata": {
        "id": "Kfr_fzvFHTG8"
      },
      "source": [
        "### understanding composition of colored images"
      ]
    },
    {
      "cell_type": "code",
      "execution_count": null,
      "metadata": {
        "id": "M8SAGvmWHQm8"
      },
      "outputs": [],
      "source": [
        "def viusalize_RGB_channel(imgArray=None, figsize=(10,7)):\n",
        "  # splitting the RGB components\n",
        "  B, G, R = cv2.split(imgArray)\n",
        "\n",
        "  # create zero matrix of shape of image\n",
        "  Z = np.zeros(B.shape, dtype=B.dtype) # can use any channel\n",
        "\n",
        "  # init subplots\n",
        "  fig, ax = plt.subplots(2,2, figsize=figsize)\n",
        "\n",
        "  # plotting the actual image and RGB images\n",
        "  [axi.set_axis_off() for axi in ax.ravel()]\n",
        "\n",
        "  ax[0,0].set_title(\"Original Image\")\n",
        "  # ax[0,0].set_axis_off()\n",
        "  ax[0,0].imshow(cv2.merge((R,G,B)))\n",
        "\n",
        "  ax[0,1].set_title(\"Red Ch Image\")\n",
        "  ax[0,1].imshow(cv2.merge((R,Z,Z)))\n",
        "\n",
        "  ax[1,0].set_title(\"Green Ch Image\")\n",
        "  ax[1,0].imshow(cv2.merge((Z,G,Z)))\n",
        "\n",
        "  ax[1,1].set_title(\"Blue Ch Image\")\n",
        "  ax[1,1].imshow(cv2.merge((Z,Z,B)))\n"
      ]
    },
    {
      "cell_type": "code",
      "execution_count": null,
      "metadata": {
        "colab": {
          "base_uri": "https://localhost:8080/",
          "height": 209
        },
        "id": "AShv5a4PHg-8",
        "outputId": "cdf82e7c-caf5-4d40-afdc-876ecc4b521a"
      },
      "outputs": [],
      "source": [
        "car1_cv2"
      ]
    },
    {
      "cell_type": "code",
      "execution_count": null,
      "metadata": {
        "colab": {
          "base_uri": "https://localhost:8080/",
          "height": 550
        },
        "id": "zGd_pMJ7HiXs",
        "outputId": "5db05d8d-c1ef-48d0-fe0a-0e90e9a4d3fe"
      },
      "outputs": [],
      "source": [
        "viusalize_RGB_channel(imgArray = car1_cv2)"
      ]
    },
    {
      "cell_type": "code",
      "execution_count": null,
      "metadata": {
        "colab": {
          "base_uri": "https://localhost:8080/"
        },
        "id": "jMFTV58GHmT1",
        "outputId": "459b70ce-899c-48ab-efcf-ad4198e4899f"
      },
      "outputs": [],
      "source": [
        "random_colored_img = np.random.randint(0, 255, (6,6,3))\n",
        "random_colored_img.shape"
      ]
    },
    {
      "cell_type": "code",
      "execution_count": null,
      "metadata": {
        "colab": {
          "base_uri": "https://localhost:8080/"
        },
        "id": "yjvDxSo2Hv7D",
        "outputId": "31d75fe5-c603-4a2d-c61e-db53fabcad93"
      },
      "outputs": [],
      "source": [
        "random_colored_img"
      ]
    },
    {
      "cell_type": "code",
      "execution_count": null,
      "metadata": {
        "colab": {
          "base_uri": "https://localhost:8080/",
          "height": 447
        },
        "id": "5m38IAVCHxMM",
        "outputId": "a175a44a-1e6f-449d-8c43-8eef5a99f0bd"
      },
      "outputs": [],
      "source": [
        "plt.imshow(random_colored_img)"
      ]
    },
    {
      "cell_type": "code",
      "execution_count": null,
      "metadata": {
        "colab": {
          "base_uri": "https://localhost:8080/",
          "height": 598
        },
        "id": "PDjSR-KKH32c",
        "outputId": "2c0a5ec6-a82e-4494-c324-aa1104dccf6c"
      },
      "outputs": [],
      "source": [
        "viusalize_RGB_channel(imgArray = random_colored_img)"
      ]
    },
    {
      "cell_type": "markdown",
      "metadata": {
        "id": "7-T0l7AuIDu0"
      },
      "source": [
        "# understanding filters"
      ]
    },
    {
      "cell_type": "code",
      "execution_count": null,
      "metadata": {
        "colab": {
          "base_uri": "https://localhost:8080/"
        },
        "id": "NrqR2nquH30M",
        "outputId": "f0225d52-f519-4847-d5d6-cfec9a9eb7e7"
      },
      "outputs": [],
      "source": [
        "sobel = np.array([[ 1, 0,-1],\n",
        "                  [ 2, 0,-2],\n",
        "                  [ 1, 0,-1]])\n",
        "\n",
        "print(\"highlighting Vertical edges:\\n\", sobel)"
      ]
    },
    {
      "cell_type": "code",
      "execution_count": null,
      "metadata": {
        "colab": {
          "base_uri": "https://localhost:8080/"
        },
        "id": "TZtTdVC2H3xk",
        "outputId": "3da148f7-c8b5-4115-85d9-124385c30ccb"
      },
      "outputs": [],
      "source": [
        "print(\"highlighting Horizontal edges:\\n\", sobel.T)"
      ]
    },
    {
      "cell_type": "code",
      "execution_count": null,
      "metadata": {
        "id": "TUsf3uPxINHb"
      },
      "outputs": [],
      "source": [
        "example1 = [\n",
        "    [0,0,0,0,255,255,255,255,0,0,0,0],\n",
        "    [0,0,0,0,255,255,255,255,0,0,0,0],\n",
        "    [0,0,0,0,255,255,255,255,0,0,0,0],\n",
        "    [0,0,0,0,255,255,255,255,0,0,0,0],\n",
        "    [0,0,0,0,255,255,255,255,255,255,255,255],\n",
        "    [0,0,0,0,255,255,255,255,255,255,255,255],\n",
        "    [0,0,0,0,255,255,255,255,255,255,255,255],\n",
        "    [0,0,0,0,255,255,255,255,255,255,255,255],\n",
        "    [0,0,0,0,255,255,255,255,0,0,0,0],\n",
        "    [0,0,0,0,255,255,255,255,0,0,0,0],\n",
        "    [0,0,0,0,255,255,255,255,0,0,0,0],\n",
        "    [0,0,0,0,255,255,255,255,0,0,0,0],\n",
        "            ]\n",
        "\n",
        "example1 = np.array(example1)"
      ]
    },
    {
      "cell_type": "code",
      "execution_count": null,
      "metadata": {
        "colab": {
          "base_uri": "https://localhost:8080/"
        },
        "id": "S-zMn58KINE7",
        "outputId": "35adeb7d-b910-46d2-bb09-dfaade26e8b3"
      },
      "outputs": [],
      "source": [
        "example1"
      ]
    },
    {
      "cell_type": "code",
      "execution_count": null,
      "metadata": {
        "colab": {
          "base_uri": "https://localhost:8080/",
          "height": 447
        },
        "id": "KdLhE7VuINCE",
        "outputId": "0694bca7-0e70-4462-82f5-3d4fc2287965"
      },
      "outputs": [],
      "source": [
        "plt.imshow(example1, cmap=\"gray\")"
      ]
    },
    {
      "cell_type": "code",
      "execution_count": null,
      "metadata": {
        "id": "caZ0GE3QIbC0"
      },
      "outputs": [],
      "source": [
        "def simple_conv(imgFilter=None, picture=None):\n",
        "  # extract the shape of the image\n",
        "  p_row, p_col = picture.shape\n",
        "\n",
        "  k = imgFilter.shape[0] # k =3\n",
        "\n",
        "  temp = list()\n",
        "\n",
        "  stride = 1\n",
        "\n",
        "  # resulant image size\n",
        "  final_cols = (p_col - k)//stride + 1\n",
        "  final_rows = (p_row - k)//stride + 1\n",
        "\n",
        "  # take vertically down stride across row by row\n",
        "  for v_stride in range(final_rows):\n",
        "    # take horizontal right stride across col by col\n",
        "    for h_stride in range(final_cols):\n",
        "      target_area_of_pic = picture[v_stride: v_stride + k, h_stride: h_stride + k]\n",
        "      z = sum(sum(imgFilter * target_area_of_pic))\n",
        "      temp.append(z)\n",
        "\n",
        "  resulant_image = np.array(temp).reshape(final_rows, final_cols)\n",
        "  return resulant_image"
      ]
    },
    {
      "cell_type": "code",
      "execution_count": null,
      "metadata": {
        "id": "mFVpyDceIa-s"
      },
      "outputs": [],
      "source": [
        "results = simple_conv(imgFilter=sobel, picture=example1)"
      ]
    },
    {
      "cell_type": "code",
      "execution_count": null,
      "metadata": {
        "colab": {
          "base_uri": "https://localhost:8080/"
        },
        "id": "_qqFvLZmJTnk",
        "outputId": "b3f4e924-5305-4eac-a6ce-56e8246b5536"
      },
      "outputs": [],
      "source": [
        "results"
      ]
    },
    {
      "cell_type": "code",
      "execution_count": null,
      "metadata": {
        "colab": {
          "base_uri": "https://localhost:8080/",
          "height": 447
        },
        "id": "f0OvceqsJVD0",
        "outputId": "408b3d8b-a225-4e92-fe4e-c5bd32a8fbaf"
      },
      "outputs": [],
      "source": [
        "plt.imshow(results, cmap=\"gray\")"
      ]
    },
    {
      "cell_type": "code",
      "execution_count": null,
      "metadata": {
        "colab": {
          "base_uri": "https://localhost:8080/",
          "height": 447
        },
        "id": "Pw3l3wgvJY-U",
        "outputId": "be8599b3-d024-4706-e59e-625c60e38491"
      },
      "outputs": [],
      "source": [
        "plt.imshow(example1, cmap=\"gray\")"
      ]
    },
    {
      "cell_type": "code",
      "execution_count": null,
      "metadata": {
        "id": "GM-lrOM0JY77"
      },
      "outputs": [],
      "source": [
        "result = simple_conv(imgFilter=sobel.T, picture=example1)"
      ]
    },
    {
      "cell_type": "code",
      "execution_count": null,
      "metadata": {
        "colab": {
          "base_uri": "https://localhost:8080/",
          "height": 447
        },
        "id": "gPsb6erMJY5U",
        "outputId": "7599cc48-1ed3-4ffc-a251-bc18afbe3572"
      },
      "outputs": [],
      "source": [
        "plt.imshow(result, cmap=\"gray\")"
      ]
    },
    {
      "cell_type": "code",
      "execution_count": null,
      "metadata": {
        "colab": {
          "base_uri": "https://localhost:8080/",
          "height": 360
        },
        "id": "MBKR_sh-JjKd",
        "outputId": "8874769c-4794-4cc6-cd79-67e5ceacf95c"
      },
      "outputs": [],
      "source": [
        "car1_cv2_BGR_GRAY = cv2.cvtColor(car1_cv2, cv2.COLOR_BGR2GRAY)\n",
        "plt.imshow(car1_cv2_BGR_GRAY, cmap=\"gray\")"
      ]
    },
    {
      "cell_type": "code",
      "execution_count": null,
      "metadata": {
        "colab": {
          "base_uri": "https://localhost:8080/",
          "height": 358
        },
        "id": "wuHYgddqJjIN",
        "outputId": "74c1b96c-bec2-442d-c701-302f3eb9d55e"
      },
      "outputs": [],
      "source": [
        "result = simple_conv(imgFilter=sobel, picture=car1_cv2_BGR_GRAY)\n",
        "plt.imshow(result, cmap=\"gray\")"
      ]
    },
    {
      "cell_type": "code",
      "execution_count": null,
      "metadata": {
        "colab": {
          "base_uri": "https://localhost:8080/",
          "height": 358
        },
        "id": "IxTDrWs7JjFc",
        "outputId": "e8c5ac7b-6f2a-43cc-a83f-27be47184c00"
      },
      "outputs": [],
      "source": [
        "result = simple_conv(imgFilter=sobel.T, picture=car1_cv2_BGR_GRAY)\n",
        "plt.imshow(result, cmap=\"gray\")"
      ]
    }
  ],
  "metadata": {
    "colab": {
      "provenance": []
    },
    "kernelspec": {
      "display_name": ".venv",
      "language": "python",
      "name": "python3"
    },
    "language_info": {
      "codemirror_mode": {
        "name": "ipython",
        "version": 3
      },
      "file_extension": ".py",
      "mimetype": "text/x-python",
      "name": "python",
      "nbconvert_exporter": "python",
      "pygments_lexer": "ipython3",
      "version": "3.13.3"
    }
  },
  "nbformat": 4,
  "nbformat_minor": 0
}
