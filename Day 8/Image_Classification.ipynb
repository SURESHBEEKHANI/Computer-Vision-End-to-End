{
  "nbformat": 4,
  "nbformat_minor": 0,
  "metadata": {
    "colab": {
      "provenance": [],
      "gpuType": "T4"
    },
    "kernelspec": {
      "name": "python3",
      "display_name": "Python 3"
    },
    "language_info": {
      "name": "python"
    },
    "accelerator": "GPU"
  },
  "cells": [
    {
      "cell_type": "code",
      "execution_count": 1,
      "metadata": {
        "colab": {
          "base_uri": "https://localhost:8080/"
        },
        "id": "xF4ZLhAF_1Zm",
        "outputId": "18fd10ec-47ab-4d86-f4f5-4fba0d0b0440"
      },
      "outputs": [
        {
          "output_type": "stream",
          "name": "stdout",
          "text": [
            "Mon May 12 05:21:38 2025       \n",
            "+-----------------------------------------------------------------------------------------+\n",
            "| NVIDIA-SMI 550.54.15              Driver Version: 550.54.15      CUDA Version: 12.4     |\n",
            "|-----------------------------------------+------------------------+----------------------+\n",
            "| GPU  Name                 Persistence-M | Bus-Id          Disp.A | Volatile Uncorr. ECC |\n",
            "| Fan  Temp   Perf          Pwr:Usage/Cap |           Memory-Usage | GPU-Util  Compute M. |\n",
            "|                                         |                        |               MIG M. |\n",
            "|=========================================+========================+======================|\n",
            "|   0  Tesla T4                       Off |   00000000:00:04.0 Off |                    0 |\n",
            "| N/A   44C    P8              9W /   70W |       0MiB /  15360MiB |      0%      Default |\n",
            "|                                         |                        |                  N/A |\n",
            "+-----------------------------------------+------------------------+----------------------+\n",
            "                                                                                         \n",
            "+-----------------------------------------------------------------------------------------+\n",
            "| Processes:                                                                              |\n",
            "|  GPU   GI   CI        PID   Type   Process name                              GPU Memory |\n",
            "|        ID   ID                                                               Usage      |\n",
            "|=========================================================================================|\n",
            "|  No running processes found                                                             |\n",
            "+-----------------------------------------------------------------------------------------+\n"
          ]
        }
      ],
      "source": [
        "!nvidia-smi"
      ]
    },
    {
      "cell_type": "code",
      "source": [
        "!mkdir -p ~/.kaggle\n",
        "!cp kaggle.json ~/.kaggle/"
      ],
      "metadata": {
        "id": "lpLMPE1LxTGH"
      },
      "execution_count": 3,
      "outputs": []
    },
    {
      "cell_type": "code",
      "source": [
        "!kaggle datasets download -d samuelcortinhas/apples-or-tomatoes-image-classification"
      ],
      "metadata": {
        "colab": {
          "base_uri": "https://localhost:8080/"
        },
        "id": "B7bESKIExdan",
        "outputId": "256d9dd5-357e-4e4a-86c7-a02ab74d9881"
      },
      "execution_count": 4,
      "outputs": [
        {
          "output_type": "stream",
          "name": "stdout",
          "text": [
            "Warning: Your Kaggle API key is readable by other users on this system! To fix this, you can run 'chmod 600 /root/.kaggle/kaggle.json'\n",
            "Dataset URL: https://www.kaggle.com/datasets/samuelcortinhas/apples-or-tomatoes-image-classification\n",
            "License(s): CC0-1.0\n"
          ]
        }
      ]
    },
    {
      "cell_type": "code",
      "source": [
        "!unzip /content/apples-or-tomatoes-image-classification.zip"
      ],
      "metadata": {
        "colab": {
          "base_uri": "https://localhost:8080/"
        },
        "id": "MZVA6W6kAEf2",
        "outputId": "6f385a1c-5a1e-448e-f86b-ec6fe649b930"
      },
      "execution_count": 5,
      "outputs": [
        {
          "output_type": "stream",
          "name": "stdout",
          "text": [
            "Archive:  /content/apples-or-tomatoes-image-classification.zip\n",
            "  inflating: test/apples/img_p1_111.jpeg  \n",
            "  inflating: test/apples/img_p1_121.jpeg  \n",
            "  inflating: test/apples/img_p1_127.jpeg  \n",
            "  inflating: test/apples/img_p1_131.jpeg  \n",
            "  inflating: test/apples/img_p1_133.jpeg  \n",
            "  inflating: test/apples/img_p1_139.jpeg  \n",
            "  inflating: test/apples/img_p1_14.jpeg  \n",
            "  inflating: test/apples/img_p1_143.jpeg  \n",
            "  inflating: test/apples/img_p1_15.jpeg  \n",
            "  inflating: test/apples/img_p1_16.jpeg  \n",
            "  inflating: test/apples/img_p1_29.jpeg  \n",
            "  inflating: test/apples/img_p1_30.jpeg  \n",
            "  inflating: test/apples/img_p1_33.jpeg  \n",
            "  inflating: test/apples/img_p1_34.jpeg  \n",
            "  inflating: test/apples/img_p1_36.jpeg  \n",
            "  inflating: test/apples/img_p1_50.jpeg  \n",
            "  inflating: test/apples/img_p1_52.jpeg  \n",
            "  inflating: test/apples/img_p1_55.jpeg  \n",
            "  inflating: test/apples/img_p1_68.jpeg  \n",
            "  inflating: test/apples/img_p1_7.jpeg  \n",
            "  inflating: test/apples/img_p1_70.jpeg  \n",
            "  inflating: test/apples/img_p1_74.jpeg  \n",
            "  inflating: test/apples/img_p1_76.jpeg  \n",
            "  inflating: test/apples/img_p1_8.jpeg  \n",
            "  inflating: test/apples/img_p1_82.jpeg  \n",
            "  inflating: test/apples/img_p1_84.jpeg  \n",
            "  inflating: test/apples/img_p1_88.jpeg  \n",
            "  inflating: test/apples/img_p1_9.jpeg  \n",
            "  inflating: test/apples/img_p1_90.jpeg  \n",
            "  inflating: test/apples/img_p1_94.jpeg  \n",
            "  inflating: test/apples/img_p1_98.jpeg  \n",
            "  inflating: test/apples/img_p2_106.jpeg  \n",
            "  inflating: test/apples/img_p2_114.jpeg  \n",
            "  inflating: test/apples/img_p2_116.jpeg  \n",
            "  inflating: test/apples/img_p2_12.jpeg  \n",
            "  inflating: test/apples/img_p2_13.jpeg  \n",
            "  inflating: test/apples/img_p2_28.jpeg  \n",
            "  inflating: test/apples/img_p2_35.jpeg  \n",
            "  inflating: test/apples/img_p2_41.jpeg  \n",
            "  inflating: test/apples/img_p2_45.jpeg  \n",
            "  inflating: test/apples/img_p2_84.jpeg  \n",
            "  inflating: test/apples/img_p3_105.jpeg  \n",
            "  inflating: test/apples/img_p3_11.jpeg  \n",
            "  inflating: test/apples/img_p3_111.jpeg  \n",
            "  inflating: test/apples/img_p3_12.jpeg  \n",
            "  inflating: test/apples/img_p3_25.jpeg  \n",
            "  inflating: test/apples/img_p3_44.jpeg  \n",
            "  inflating: test/apples/img_p3_50.jpeg  \n",
            "  inflating: test/apples/img_p3_6.jpeg  \n",
            "  inflating: test/apples/img_p3_68.jpeg  \n",
            "  inflating: test/apples/img_p3_79.jpeg  \n",
            "  inflating: test/apples/img_p3_8.jpeg  \n",
            "  inflating: test/apples/img_p3_86.jpeg  \n",
            "  inflating: test/apples/img_p3_88.jpeg  \n",
            "  inflating: test/tomatoes/img_p1_105.jpeg  \n",
            "  inflating: test/tomatoes/img_p1_107.jpeg  \n",
            "  inflating: test/tomatoes/img_p1_15.jpeg  \n",
            "  inflating: test/tomatoes/img_p1_19.jpeg  \n",
            "  inflating: test/tomatoes/img_p1_22.jpeg  \n",
            "  inflating: test/tomatoes/img_p1_24.jpeg  \n",
            "  inflating: test/tomatoes/img_p1_25.jpeg  \n",
            "  inflating: test/tomatoes/img_p1_33.jpeg  \n",
            "  inflating: test/tomatoes/img_p1_43.jpeg  \n",
            "  inflating: test/tomatoes/img_p1_51.jpeg  \n",
            "  inflating: test/tomatoes/img_p1_53.jpeg  \n",
            "  inflating: test/tomatoes/img_p1_58.jpeg  \n",
            "  inflating: test/tomatoes/img_p1_82.jpeg  \n",
            "  inflating: test/tomatoes/img_p1_88.jpeg  \n",
            "  inflating: test/tomatoes/img_p1_9.jpeg  \n",
            "  inflating: test/tomatoes/img_p1_92.jpeg  \n",
            "  inflating: test/tomatoes/img_p2_110.jpeg  \n",
            "  inflating: test/tomatoes/img_p2_17.jpeg  \n",
            "  inflating: test/tomatoes/img_p2_24.jpeg  \n",
            "  inflating: test/tomatoes/img_p2_28.jpeg  \n",
            "  inflating: test/tomatoes/img_p2_49.jpeg  \n",
            "  inflating: test/tomatoes/img_p2_55.jpeg  \n",
            "  inflating: test/tomatoes/img_p2_6.jpeg  \n",
            "  inflating: test/tomatoes/img_p2_63.jpeg  \n",
            "  inflating: test/tomatoes/img_p2_73.jpeg  \n",
            "  inflating: test/tomatoes/img_p2_79.jpeg  \n",
            "  inflating: test/tomatoes/img_p2_82.jpeg  \n",
            "  inflating: test/tomatoes/img_p2_84.jpeg  \n",
            "  inflating: test/tomatoes/img_p2_88.jpeg  \n",
            "  inflating: test/tomatoes/img_p2_90.jpeg  \n",
            "  inflating: test/tomatoes/img_p3_103.jpeg  \n",
            "  inflating: test/tomatoes/img_p3_11.jpeg  \n",
            "  inflating: test/tomatoes/img_p3_124.jpeg  \n",
            "  inflating: test/tomatoes/img_p3_126.jpeg  \n",
            "  inflating: test/tomatoes/img_p3_13.jpeg  \n",
            "  inflating: test/tomatoes/img_p3_19.jpeg  \n",
            "  inflating: test/tomatoes/img_p3_24.jpeg  \n",
            "  inflating: test/tomatoes/img_p3_34.jpeg  \n",
            "  inflating: test/tomatoes/img_p3_6.jpeg  \n",
            "  inflating: test/tomatoes/img_p3_66.jpeg  \n",
            "  inflating: test/tomatoes/img_p3_7.jpeg  \n",
            "  inflating: test/tomatoes/img_p3_74.jpeg  \n",
            "  inflating: test/tomatoes/img_p3_99.jpeg  \n",
            "  inflating: train/apples/img_p1_10.jpeg  \n",
            "  inflating: train/apples/img_p1_100.jpeg  \n",
            "  inflating: train/apples/img_p1_107.jpeg  \n",
            "  inflating: train/apples/img_p1_109.jpeg  \n",
            "  inflating: train/apples/img_p1_11.jpeg  \n",
            "  inflating: train/apples/img_p1_113.jpeg  \n",
            "  inflating: train/apples/img_p1_115.jpeg  \n",
            "  inflating: train/apples/img_p1_117.jpeg  \n",
            "  inflating: train/apples/img_p1_119.jpeg  \n",
            "  inflating: train/apples/img_p1_12.jpeg  \n",
            "  inflating: train/apples/img_p1_123.jpeg  \n",
            "  inflating: train/apples/img_p1_125.jpeg  \n",
            "  inflating: train/apples/img_p1_129.jpeg  \n",
            "  inflating: train/apples/img_p1_13.jpeg  \n",
            "  inflating: train/apples/img_p1_135.jpeg  \n",
            "  inflating: train/apples/img_p1_137.jpeg  \n",
            "  inflating: train/apples/img_p1_141.jpeg  \n",
            "  inflating: train/apples/img_p1_144.jpeg  \n",
            "  inflating: train/apples/img_p1_17.jpeg  \n",
            "  inflating: train/apples/img_p1_18.jpeg  \n",
            "  inflating: train/apples/img_p1_20.jpeg  \n",
            "  inflating: train/apples/img_p1_21.jpeg  \n",
            "  inflating: train/apples/img_p1_22.jpeg  \n",
            "  inflating: train/apples/img_p1_23.jpeg  \n",
            "  inflating: train/apples/img_p1_24.jpeg  \n",
            "  inflating: train/apples/img_p1_25.jpeg  \n",
            "  inflating: train/apples/img_p1_28.jpeg  \n",
            "  inflating: train/apples/img_p1_31.jpeg  \n",
            "  inflating: train/apples/img_p1_32.jpeg  \n",
            "  inflating: train/apples/img_p1_35.jpeg  \n",
            "  inflating: train/apples/img_p1_37.jpeg  \n",
            "  inflating: train/apples/img_p1_38.jpeg  \n",
            "  inflating: train/apples/img_p1_39.jpeg  \n",
            "  inflating: train/apples/img_p1_4.jpeg  \n",
            "  inflating: train/apples/img_p1_40.jpeg  \n",
            "  inflating: train/apples/img_p1_41.jpeg  \n",
            "  inflating: train/apples/img_p1_42.jpeg  \n",
            "  inflating: train/apples/img_p1_44.jpeg  \n",
            "  inflating: train/apples/img_p1_46.jpeg  \n",
            "  inflating: train/apples/img_p1_48.jpeg  \n",
            "  inflating: train/apples/img_p1_5.jpeg  \n",
            "  inflating: train/apples/img_p1_57.jpeg  \n",
            "  inflating: train/apples/img_p1_59.jpeg  \n",
            "  inflating: train/apples/img_p1_6.jpeg  \n",
            "  inflating: train/apples/img_p1_61.jpeg  \n",
            "  inflating: train/apples/img_p1_63.jpeg  \n",
            "  inflating: train/apples/img_p1_65.jpeg  \n",
            "  inflating: train/apples/img_p1_67.jpeg  \n",
            "  inflating: train/apples/img_p1_72.jpeg  \n",
            "  inflating: train/apples/img_p1_78.jpeg  \n",
            "  inflating: train/apples/img_p1_80.jpeg  \n",
            "  inflating: train/apples/img_p1_86.jpeg  \n",
            "  inflating: train/apples/img_p1_92.jpeg  \n",
            "  inflating: train/apples/img_p2_100.jpeg  \n",
            "  inflating: train/apples/img_p2_102.jpeg  \n",
            "  inflating: train/apples/img_p2_104.jpeg  \n",
            "  inflating: train/apples/img_p2_108.jpeg  \n",
            "  inflating: train/apples/img_p2_11.jpeg  \n",
            "  inflating: train/apples/img_p2_110.jpeg  \n",
            "  inflating: train/apples/img_p2_112.jpeg  \n",
            "  inflating: train/apples/img_p2_118.jpeg  \n",
            "  inflating: train/apples/img_p2_14.jpeg  \n",
            "  inflating: train/apples/img_p2_15.jpeg  \n",
            "  inflating: train/apples/img_p2_16.jpeg  \n",
            "  inflating: train/apples/img_p2_17.jpeg  \n",
            "  inflating: train/apples/img_p2_18.jpeg  \n",
            "  inflating: train/apples/img_p2_19.jpeg  \n",
            "  inflating: train/apples/img_p2_20.jpeg  \n",
            "  inflating: train/apples/img_p2_21.jpeg  \n",
            "  inflating: train/apples/img_p2_22.jpeg  \n",
            "  inflating: train/apples/img_p2_23.jpeg  \n",
            "  inflating: train/apples/img_p2_24.jpeg  \n",
            "  inflating: train/apples/img_p2_26.jpeg  \n",
            "  inflating: train/apples/img_p2_30.jpeg  \n",
            "  inflating: train/apples/img_p2_32.jpeg  \n",
            "  inflating: train/apples/img_p2_34.jpeg  \n",
            "  inflating: train/apples/img_p2_36.jpeg  \n",
            "  inflating: train/apples/img_p2_37.jpeg  \n",
            "  inflating: train/apples/img_p2_39.jpeg  \n",
            "  inflating: train/apples/img_p2_4.jpeg  \n",
            "  inflating: train/apples/img_p2_43.jpeg  \n",
            "  inflating: train/apples/img_p2_47.jpeg  \n",
            "  inflating: train/apples/img_p2_49.jpeg  \n",
            "  inflating: train/apples/img_p2_5.jpeg  \n",
            "  inflating: train/apples/img_p2_53.jpeg  \n",
            "  inflating: train/apples/img_p2_55.jpeg  \n",
            "  inflating: train/apples/img_p2_57.jpeg  \n",
            "  inflating: train/apples/img_p2_6.jpeg  \n",
            "  inflating: train/apples/img_p2_61.jpeg  \n",
            "  inflating: train/apples/img_p2_63.jpeg  \n",
            "  inflating: train/apples/img_p2_65.jpeg  \n",
            "  inflating: train/apples/img_p2_67.jpeg  \n",
            "  inflating: train/apples/img_p2_69.jpeg  \n",
            "  inflating: train/apples/img_p2_7.jpeg  \n",
            "  inflating: train/apples/img_p2_70.jpeg  \n",
            "  inflating: train/apples/img_p2_72.jpeg  \n",
            "  inflating: train/apples/img_p2_74.jpeg  \n",
            "  inflating: train/apples/img_p2_76.jpeg  \n",
            "  inflating: train/apples/img_p2_77.jpeg  \n",
            "  inflating: train/apples/img_p2_79.jpeg  \n",
            "  inflating: train/apples/img_p2_8.jpeg  \n",
            "  inflating: train/apples/img_p2_81.jpeg  \n",
            "  inflating: train/apples/img_p2_86.jpeg  \n",
            "  inflating: train/apples/img_p2_88.jpeg  \n",
            "  inflating: train/apples/img_p2_9.jpeg  \n",
            "  inflating: train/apples/img_p2_90.jpeg  \n",
            "  inflating: train/apples/img_p2_92.jpeg  \n",
            "  inflating: train/apples/img_p2_94.jpeg  \n",
            "  inflating: train/apples/img_p2_96.jpeg  \n",
            "  inflating: train/apples/img_p2_98.jpeg  \n",
            "  inflating: train/apples/img_p3_10.jpeg  \n",
            "  inflating: train/apples/img_p3_100.jpeg  \n",
            "  inflating: train/apples/img_p3_101.jpeg  \n",
            "  inflating: train/apples/img_p3_103.jpeg  \n",
            "  inflating: train/apples/img_p3_107.jpeg  \n",
            "  inflating: train/apples/img_p3_109.jpeg  \n",
            "  inflating: train/apples/img_p3_113.jpeg  \n",
            "  inflating: train/apples/img_p3_115.jpeg  \n",
            "  inflating: train/apples/img_p3_117.jpeg  \n",
            "  inflating: train/apples/img_p3_119.jpeg  \n",
            "  inflating: train/apples/img_p3_121.jpeg  \n",
            "  inflating: train/apples/img_p3_13.jpeg  \n",
            "  inflating: train/apples/img_p3_16.jpeg  \n",
            "  inflating: train/apples/img_p3_17.jpeg  \n",
            "  inflating: train/apples/img_p3_18.jpeg  \n",
            "  inflating: train/apples/img_p3_19.jpeg  \n",
            "  inflating: train/apples/img_p3_20.jpeg  \n",
            "  inflating: train/apples/img_p3_21.jpeg  \n",
            "  inflating: train/apples/img_p3_22.jpeg  \n",
            "  inflating: train/apples/img_p3_24.jpeg  \n",
            "  inflating: train/apples/img_p3_27.jpeg  \n",
            "  inflating: train/apples/img_p3_29.jpeg  \n",
            "  inflating: train/apples/img_p3_31.jpeg  \n",
            "  inflating: train/apples/img_p3_32.jpeg  \n",
            "  inflating: train/apples/img_p3_36.jpeg  \n",
            "  inflating: train/apples/img_p3_38.jpeg  \n",
            "  inflating: train/apples/img_p3_4.jpeg  \n",
            "  inflating: train/apples/img_p3_40.jpeg  \n",
            "  inflating: train/apples/img_p3_42.jpeg  \n",
            "  inflating: train/apples/img_p3_46.jpeg  \n",
            "  inflating: train/apples/img_p3_48.jpeg  \n",
            "  inflating: train/apples/img_p3_5.jpeg  \n",
            "  inflating: train/apples/img_p3_52.jpeg  \n",
            "  inflating: train/apples/img_p3_54.jpeg  \n",
            "  inflating: train/apples/img_p3_56.jpeg  \n",
            "  inflating: train/apples/img_p3_58.jpeg  \n",
            "  inflating: train/apples/img_p3_60.jpeg  \n",
            "  inflating: train/apples/img_p3_62.jpeg  \n",
            "  inflating: train/apples/img_p3_64.jpeg  \n",
            "  inflating: train/apples/img_p3_66.jpeg  \n",
            "  inflating: train/apples/img_p3_70.jpeg  \n",
            "  inflating: train/apples/img_p3_72.jpeg  \n",
            "  inflating: train/apples/img_p3_74.jpeg  \n",
            "  inflating: train/apples/img_p3_76.jpeg  \n",
            "  inflating: train/apples/img_p3_77.jpeg  \n",
            "  inflating: train/apples/img_p3_80.jpeg  \n",
            "  inflating: train/apples/img_p3_82.jpeg  \n",
            "  inflating: train/apples/img_p3_84.jpeg  \n",
            "  inflating: train/apples/img_p3_9.jpeg  \n",
            "  inflating: train/apples/img_p3_90.jpeg  \n",
            "  inflating: train/apples/img_p3_92.jpeg  \n",
            "  inflating: train/apples/img_p3_94.jpeg  \n",
            "  inflating: train/apples/img_p3_96.jpeg  \n",
            "  inflating: train/apples/img_p3_98.jpeg  \n",
            "  inflating: train/tomatoes/img_p1_10.jpeg  \n",
            "  inflating: train/tomatoes/img_p1_101.jpeg  \n",
            "  inflating: train/tomatoes/img_p1_103.jpeg  \n",
            "  inflating: train/tomatoes/img_p1_109.jpeg  \n",
            "  inflating: train/tomatoes/img_p1_11.jpeg  \n",
            "  inflating: train/tomatoes/img_p1_111.jpeg  \n",
            "  inflating: train/tomatoes/img_p1_113.jpeg  \n",
            "  inflating: train/tomatoes/img_p1_14.jpeg  \n",
            "  inflating: train/tomatoes/img_p1_16.jpeg  \n",
            "  inflating: train/tomatoes/img_p1_17.jpeg  \n",
            "  inflating: train/tomatoes/img_p1_18.jpeg  \n",
            "  inflating: train/tomatoes/img_p1_20.jpeg  \n",
            "  inflating: train/tomatoes/img_p1_21.jpeg  \n",
            "  inflating: train/tomatoes/img_p1_23.jpeg  \n",
            "  inflating: train/tomatoes/img_p1_26.jpeg  \n",
            "  inflating: train/tomatoes/img_p1_27.jpeg  \n",
            "  inflating: train/tomatoes/img_p1_28.jpeg  \n",
            "  inflating: train/tomatoes/img_p1_29.jpeg  \n",
            "  inflating: train/tomatoes/img_p1_31.jpeg  \n",
            "  inflating: train/tomatoes/img_p1_35.jpeg  \n",
            "  inflating: train/tomatoes/img_p1_37.jpeg  \n",
            "  inflating: train/tomatoes/img_p1_39.jpeg  \n",
            "  inflating: train/tomatoes/img_p1_4.jpeg  \n",
            "  inflating: train/tomatoes/img_p1_41.jpeg  \n",
            "  inflating: train/tomatoes/img_p1_45.jpeg  \n",
            "  inflating: train/tomatoes/img_p1_47.jpeg  \n",
            "  inflating: train/tomatoes/img_p1_49.jpeg  \n",
            "  inflating: train/tomatoes/img_p1_5.jpeg  \n",
            "  inflating: train/tomatoes/img_p1_56.jpeg  \n",
            "  inflating: train/tomatoes/img_p1_62.jpeg  \n",
            "  inflating: train/tomatoes/img_p1_64.jpeg  \n",
            "  inflating: train/tomatoes/img_p1_68.jpeg  \n",
            "  inflating: train/tomatoes/img_p1_7.jpeg  \n",
            "  inflating: train/tomatoes/img_p1_70.jpeg  \n",
            "  inflating: train/tomatoes/img_p1_72.jpeg  \n",
            "  inflating: train/tomatoes/img_p1_74.jpeg  \n",
            "  inflating: train/tomatoes/img_p1_77.jpeg  \n",
            "  inflating: train/tomatoes/img_p1_79.jpeg  \n",
            "  inflating: train/tomatoes/img_p1_80.jpeg  \n",
            "  inflating: train/tomatoes/img_p1_84.jpeg  \n",
            "  inflating: train/tomatoes/img_p1_90.jpeg  \n",
            "  inflating: train/tomatoes/img_p1_94.jpeg  \n",
            "  inflating: train/tomatoes/img_p1_95.jpeg  \n",
            "  inflating: train/tomatoes/img_p1_97.jpeg  \n",
            "  inflating: train/tomatoes/img_p1_99.jpeg  \n",
            "  inflating: train/tomatoes/img_p2_103.jpeg  \n",
            "  inflating: train/tomatoes/img_p2_105.jpeg  \n",
            "  inflating: train/tomatoes/img_p2_11.jpeg  \n",
            "  inflating: train/tomatoes/img_p2_116.jpeg  \n",
            "  inflating: train/tomatoes/img_p2_118.jpeg  \n",
            "  inflating: train/tomatoes/img_p2_12.jpeg  \n",
            "  inflating: train/tomatoes/img_p2_16.jpeg  \n",
            "  inflating: train/tomatoes/img_p2_20.jpeg  \n",
            "  inflating: train/tomatoes/img_p2_21.jpeg  \n",
            "  inflating: train/tomatoes/img_p2_22.jpeg  \n",
            "  inflating: train/tomatoes/img_p2_30.jpeg  \n",
            "  inflating: train/tomatoes/img_p2_31.jpeg  \n",
            "  inflating: train/tomatoes/img_p2_33.jpeg  \n",
            "  inflating: train/tomatoes/img_p2_35.jpeg  \n",
            "  inflating: train/tomatoes/img_p2_39.jpeg  \n",
            "  inflating: train/tomatoes/img_p2_4.jpeg  \n",
            "  inflating: train/tomatoes/img_p2_41.jpeg  \n",
            "  inflating: train/tomatoes/img_p2_47.jpeg  \n",
            "  inflating: train/tomatoes/img_p2_57.jpeg  \n",
            "  inflating: train/tomatoes/img_p2_59.jpeg  \n",
            "  inflating: train/tomatoes/img_p2_65.jpeg  \n",
            "  inflating: train/tomatoes/img_p2_69.jpeg  \n",
            "  inflating: train/tomatoes/img_p2_7.jpeg  \n",
            "  inflating: train/tomatoes/img_p2_71.jpeg  \n",
            "  inflating: train/tomatoes/img_p2_75.jpeg  \n",
            "  inflating: train/tomatoes/img_p2_77.jpeg  \n",
            "  inflating: train/tomatoes/img_p2_83.jpeg  \n",
            "  inflating: train/tomatoes/img_p2_92.jpeg  \n",
            "  inflating: train/tomatoes/img_p2_97.jpeg  \n",
            "  inflating: train/tomatoes/img_p3_10.jpeg  \n",
            "  inflating: train/tomatoes/img_p3_101.jpeg  \n",
            "  inflating: train/tomatoes/img_p3_107.jpeg  \n",
            "  inflating: train/tomatoes/img_p3_111.jpeg  \n",
            "  inflating: train/tomatoes/img_p3_113.jpeg  \n",
            "  inflating: train/tomatoes/img_p3_116.jpeg  \n",
            "  inflating: train/tomatoes/img_p3_118.jpeg  \n",
            "  inflating: train/tomatoes/img_p3_12.jpeg  \n",
            "  inflating: train/tomatoes/img_p3_120.jpeg  \n",
            "  inflating: train/tomatoes/img_p3_122.jpeg  \n",
            "  inflating: train/tomatoes/img_p3_14.jpeg  \n",
            "  inflating: train/tomatoes/img_p3_15.jpeg  \n",
            "  inflating: train/tomatoes/img_p3_16.jpeg  \n",
            "  inflating: train/tomatoes/img_p3_17.jpeg  \n",
            "  inflating: train/tomatoes/img_p3_18.jpeg  \n",
            "  inflating: train/tomatoes/img_p3_20.jpeg  \n",
            "  inflating: train/tomatoes/img_p3_22.jpeg  \n",
            "  inflating: train/tomatoes/img_p3_23.jpeg  \n",
            "  inflating: train/tomatoes/img_p3_25.jpeg  \n",
            "  inflating: train/tomatoes/img_p3_26.jpeg  \n",
            "  inflating: train/tomatoes/img_p3_28.jpeg  \n",
            "  inflating: train/tomatoes/img_p3_30.jpeg  \n",
            "  inflating: train/tomatoes/img_p3_32.jpeg  \n",
            "  inflating: train/tomatoes/img_p3_36.jpeg  \n",
            "  inflating: train/tomatoes/img_p3_37.jpeg  \n",
            "  inflating: train/tomatoes/img_p3_4.jpeg  \n",
            "  inflating: train/tomatoes/img_p3_40.jpeg  \n",
            "  inflating: train/tomatoes/img_p3_42.jpeg  \n",
            "  inflating: train/tomatoes/img_p3_44.jpeg  \n",
            "  inflating: train/tomatoes/img_p3_46.jpeg  \n",
            "  inflating: train/tomatoes/img_p3_48.jpeg  \n",
            "  inflating: train/tomatoes/img_p3_5.jpeg  \n",
            "  inflating: train/tomatoes/img_p3_50.jpeg  \n",
            "  inflating: train/tomatoes/img_p3_52.jpeg  \n",
            "  inflating: train/tomatoes/img_p3_54.jpeg  \n",
            "  inflating: train/tomatoes/img_p3_56.jpeg  \n",
            "  inflating: train/tomatoes/img_p3_58.jpeg  \n",
            "  inflating: train/tomatoes/img_p3_60.jpeg  \n",
            "  inflating: train/tomatoes/img_p3_62.jpeg  \n",
            "  inflating: train/tomatoes/img_p3_64.jpeg  \n",
            "  inflating: train/tomatoes/img_p3_68.jpeg  \n",
            "  inflating: train/tomatoes/img_p3_70.jpeg  \n",
            "  inflating: train/tomatoes/img_p3_72.jpeg  \n",
            "  inflating: train/tomatoes/img_p3_76.jpeg  \n",
            "  inflating: train/tomatoes/img_p3_79.jpeg  \n",
            "  inflating: train/tomatoes/img_p3_8.jpeg  \n",
            "  inflating: train/tomatoes/img_p3_81.jpeg  \n",
            "  inflating: train/tomatoes/img_p3_83.jpeg  \n",
            "  inflating: train/tomatoes/img_p3_84.jpeg  \n",
            "  inflating: train/tomatoes/img_p3_85.jpeg  \n",
            "  inflating: train/tomatoes/img_p3_86.jpeg  \n",
            "  inflating: train/tomatoes/img_p3_88.jpeg  \n",
            "  inflating: train/tomatoes/img_p3_92.jpeg  \n",
            "  inflating: train/tomatoes/img_p3_94.jpeg  \n",
            "  inflating: train/tomatoes/img_p3_96.jpeg  \n",
            "  inflating: train/tomatoes/img_p3_97.jpeg  \n"
          ]
        }
      ]
    },
    {
      "cell_type": "code",
      "source": [
        "# re-size all the images to this\n",
        "IMAGE_SIZE = [224, 224]"
      ],
      "metadata": {
        "id": "CJ8hebX6AEdW"
      },
      "execution_count": 6,
      "outputs": []
    },
    {
      "cell_type": "code",
      "source": [
        "train_path = '/content/train'\n",
        "valid_path = '/content/test'"
      ],
      "metadata": {
        "id": "U8h-2ApeBlev"
      },
      "execution_count": 7,
      "outputs": []
    },
    {
      "cell_type": "code",
      "source": [
        "import tensorflow as tf\n",
        "from tensorflow.keras.preprocessing import image\n",
        "from tensorflow.keras.preprocessing.image import ImageDataGenerator,load_img\n",
        "import numpy as np\n",
        "from glob import glob\n",
        "from tensorflow.keras.models import Sequential\n",
        "from tensorflow.keras.models import Model\n",
        "from tensorflow.keras.layers import Input, Conv2D, Dense, Flatten, MaxPooling2D"
      ],
      "metadata": {
        "id": "hddjYi9EBtr2"
      },
      "execution_count": 8,
      "outputs": []
    },
    {
      "cell_type": "code",
      "source": [
        "folders = glob('/content/train/*')\n",
        "folders"
      ],
      "metadata": {
        "colab": {
          "base_uri": "https://localhost:8080/"
        },
        "id": "rDQIYOJcDI4X",
        "outputId": "a04b3ae5-07f8-4944-d215-12c766f438ea"
      },
      "execution_count": 9,
      "outputs": [
        {
          "output_type": "execute_result",
          "data": {
            "text/plain": [
              "['/content/train/tomatoes', '/content/train/apples']"
            ]
          },
          "metadata": {},
          "execution_count": 9
        }
      ]
    },
    {
      "cell_type": "code",
      "source": [
        "num_of_class = len(folders)\n",
        "num_of_class"
      ],
      "metadata": {
        "colab": {
          "base_uri": "https://localhost:8080/"
        },
        "id": "XJHUcNXlDbRY",
        "outputId": "702f4150-e5a8-4564-acc3-24b2ce0e0e38"
      },
      "execution_count": 10,
      "outputs": [
        {
          "output_type": "execute_result",
          "data": {
            "text/plain": [
              "2"
            ]
          },
          "metadata": {},
          "execution_count": 10
        }
      ]
    },
    {
      "cell_type": "code",
      "source": [
        "# Create a Sequential model\n",
        "model = Sequential()\n",
        "\n",
        "# Add a 2D convolutional layer with 32 filters, each of size 3x3,\n",
        "# using 'valid' padding and ReLU activation function. Input shape is (224, 224, 3).\n",
        "model.add(Conv2D(32, kernel_size=(3, 3), padding='valid', activation='relu', input_shape=(224, 224, 3)))\n",
        "\n",
        "# Add a max pooling layer with pool size 2x2, stride of 2, and 'valid' padding.\n",
        "model.add(MaxPooling2D(pool_size=(2, 2), strides=2, padding='valid'))\n",
        "\n",
        "# Add another 2D convolutional layer with 64 filters, each of size 3x3,\n",
        "# using 'valid' padding and ReLU activation function.\n",
        "model.add(Conv2D(64, kernel_size=(3, 3), padding='valid', activation='relu'))\n",
        "\n",
        "# Add a max pooling layer with pool size 2x2, stride of 2, and 'valid' padding.\n",
        "model.add(MaxPooling2D(pool_size=(2, 2), strides=2, padding='valid'))\n",
        "\n",
        "# Add another 2D convolutional layer with 128 filters, each of size 3x3,\n",
        "# using 'valid' padding and ReLU activation function.\n",
        "model.add(Conv2D(128, kernel_size=(3, 3), padding='valid', activation='relu'))\n",
        "\n",
        "# Add a max pooling layer with pool size 2x2, stride of 2, and 'valid' padding.\n",
        "model.add(MaxPooling2D(pool_size=(2, 2), strides=2, padding='valid'))\n",
        "\n",
        "# Flatten the output from the convolutional layers to a 1D array\n",
        "model.add(Flatten())\n",
        "\n",
        "# Add a fully connected dense layer with 128 neurons and ReLU activation function.\n",
        "model.add(Dense(128, activation='relu'))\n",
        "\n",
        "# Add another fully connected dense layer with 64 neurons and ReLU activation function.\n",
        "model.add(Dense(64, activation='relu'))\n",
        "\n",
        "# Add a final output layer with 1 neuron and sigmoid activation function for binary classification.\n",
        "model.add(Dense(1, activation='sigmoid'))\n"
      ],
      "metadata": {
        "id": "J3jQckEpDd3Q",
        "colab": {
          "base_uri": "https://localhost:8080/"
        },
        "outputId": "0b959e2a-e782-4cb9-cbbb-ba618673b266"
      },
      "execution_count": 11,
      "outputs": [
        {
          "output_type": "stream",
          "name": "stderr",
          "text": [
            "/usr/local/lib/python3.11/dist-packages/keras/src/layers/convolutional/base_conv.py:107: UserWarning: Do not pass an `input_shape`/`input_dim` argument to a layer. When using Sequential models, prefer using an `Input(shape)` object as the first layer in the model instead.\n",
            "  super().__init__(activity_regularizer=activity_regularizer, **kwargs)\n"
          ]
        }
      ]
    },
    {
      "cell_type": "code",
      "source": [
        "# view the structure of the model\n",
        "model.summary()"
      ],
      "metadata": {
        "colab": {
          "base_uri": "https://localhost:8080/",
          "height": 476
        },
        "id": "vUAzPRm6EO9f",
        "outputId": "7d2c9e3c-5b47-4fdf-e438-00c9647fbd03"
      },
      "execution_count": 12,
      "outputs": [
        {
          "output_type": "display_data",
          "data": {
            "text/plain": [
              "\u001b[1mModel: \"sequential\"\u001b[0m\n"
            ],
            "text/html": [
              "<pre style=\"white-space:pre;overflow-x:auto;line-height:normal;font-family:Menlo,'DejaVu Sans Mono',consolas,'Courier New',monospace\"><span style=\"font-weight: bold\">Model: \"sequential\"</span>\n",
              "</pre>\n"
            ]
          },
          "metadata": {}
        },
        {
          "output_type": "display_data",
          "data": {
            "text/plain": [
              "┏━━━━━━━━━━━━━━━━━━━━━━━━━━━━━━━━━┳━━━━━━━━━━━━━━━━━━━━━━━━┳━━━━━━━━━━━━━━━┓\n",
              "┃\u001b[1m \u001b[0m\u001b[1mLayer (type)                   \u001b[0m\u001b[1m \u001b[0m┃\u001b[1m \u001b[0m\u001b[1mOutput Shape          \u001b[0m\u001b[1m \u001b[0m┃\u001b[1m \u001b[0m\u001b[1m      Param #\u001b[0m\u001b[1m \u001b[0m┃\n",
              "┡━━━━━━━━━━━━━━━━━━━━━━━━━━━━━━━━━╇━━━━━━━━━━━━━━━━━━━━━━━━╇━━━━━━━━━━━━━━━┩\n",
              "│ conv2d (\u001b[38;5;33mConv2D\u001b[0m)                 │ (\u001b[38;5;45mNone\u001b[0m, \u001b[38;5;34m222\u001b[0m, \u001b[38;5;34m222\u001b[0m, \u001b[38;5;34m32\u001b[0m)   │           \u001b[38;5;34m896\u001b[0m │\n",
              "├─────────────────────────────────┼────────────────────────┼───────────────┤\n",
              "│ max_pooling2d (\u001b[38;5;33mMaxPooling2D\u001b[0m)    │ (\u001b[38;5;45mNone\u001b[0m, \u001b[38;5;34m111\u001b[0m, \u001b[38;5;34m111\u001b[0m, \u001b[38;5;34m32\u001b[0m)   │             \u001b[38;5;34m0\u001b[0m │\n",
              "├─────────────────────────────────┼────────────────────────┼───────────────┤\n",
              "│ conv2d_1 (\u001b[38;5;33mConv2D\u001b[0m)               │ (\u001b[38;5;45mNone\u001b[0m, \u001b[38;5;34m109\u001b[0m, \u001b[38;5;34m109\u001b[0m, \u001b[38;5;34m64\u001b[0m)   │        \u001b[38;5;34m18,496\u001b[0m │\n",
              "├─────────────────────────────────┼────────────────────────┼───────────────┤\n",
              "│ max_pooling2d_1 (\u001b[38;5;33mMaxPooling2D\u001b[0m)  │ (\u001b[38;5;45mNone\u001b[0m, \u001b[38;5;34m54\u001b[0m, \u001b[38;5;34m54\u001b[0m, \u001b[38;5;34m64\u001b[0m)     │             \u001b[38;5;34m0\u001b[0m │\n",
              "├─────────────────────────────────┼────────────────────────┼───────────────┤\n",
              "│ conv2d_2 (\u001b[38;5;33mConv2D\u001b[0m)               │ (\u001b[38;5;45mNone\u001b[0m, \u001b[38;5;34m52\u001b[0m, \u001b[38;5;34m52\u001b[0m, \u001b[38;5;34m128\u001b[0m)    │        \u001b[38;5;34m73,856\u001b[0m │\n",
              "├─────────────────────────────────┼────────────────────────┼───────────────┤\n",
              "│ max_pooling2d_2 (\u001b[38;5;33mMaxPooling2D\u001b[0m)  │ (\u001b[38;5;45mNone\u001b[0m, \u001b[38;5;34m26\u001b[0m, \u001b[38;5;34m26\u001b[0m, \u001b[38;5;34m128\u001b[0m)    │             \u001b[38;5;34m0\u001b[0m │\n",
              "├─────────────────────────────────┼────────────────────────┼───────────────┤\n",
              "│ flatten (\u001b[38;5;33mFlatten\u001b[0m)               │ (\u001b[38;5;45mNone\u001b[0m, \u001b[38;5;34m86528\u001b[0m)          │             \u001b[38;5;34m0\u001b[0m │\n",
              "├─────────────────────────────────┼────────────────────────┼───────────────┤\n",
              "│ dense (\u001b[38;5;33mDense\u001b[0m)                   │ (\u001b[38;5;45mNone\u001b[0m, \u001b[38;5;34m128\u001b[0m)            │    \u001b[38;5;34m11,075,712\u001b[0m │\n",
              "├─────────────────────────────────┼────────────────────────┼───────────────┤\n",
              "│ dense_1 (\u001b[38;5;33mDense\u001b[0m)                 │ (\u001b[38;5;45mNone\u001b[0m, \u001b[38;5;34m64\u001b[0m)             │         \u001b[38;5;34m8,256\u001b[0m │\n",
              "├─────────────────────────────────┼────────────────────────┼───────────────┤\n",
              "│ dense_2 (\u001b[38;5;33mDense\u001b[0m)                 │ (\u001b[38;5;45mNone\u001b[0m, \u001b[38;5;34m1\u001b[0m)              │            \u001b[38;5;34m65\u001b[0m │\n",
              "└─────────────────────────────────┴────────────────────────┴───────────────┘\n"
            ],
            "text/html": [
              "<pre style=\"white-space:pre;overflow-x:auto;line-height:normal;font-family:Menlo,'DejaVu Sans Mono',consolas,'Courier New',monospace\">┏━━━━━━━━━━━━━━━━━━━━━━━━━━━━━━━━━┳━━━━━━━━━━━━━━━━━━━━━━━━┳━━━━━━━━━━━━━━━┓\n",
              "┃<span style=\"font-weight: bold\"> Layer (type)                    </span>┃<span style=\"font-weight: bold\"> Output Shape           </span>┃<span style=\"font-weight: bold\">       Param # </span>┃\n",
              "┡━━━━━━━━━━━━━━━━━━━━━━━━━━━━━━━━━╇━━━━━━━━━━━━━━━━━━━━━━━━╇━━━━━━━━━━━━━━━┩\n",
              "│ conv2d (<span style=\"color: #0087ff; text-decoration-color: #0087ff\">Conv2D</span>)                 │ (<span style=\"color: #00d7ff; text-decoration-color: #00d7ff\">None</span>, <span style=\"color: #00af00; text-decoration-color: #00af00\">222</span>, <span style=\"color: #00af00; text-decoration-color: #00af00\">222</span>, <span style=\"color: #00af00; text-decoration-color: #00af00\">32</span>)   │           <span style=\"color: #00af00; text-decoration-color: #00af00\">896</span> │\n",
              "├─────────────────────────────────┼────────────────────────┼───────────────┤\n",
              "│ max_pooling2d (<span style=\"color: #0087ff; text-decoration-color: #0087ff\">MaxPooling2D</span>)    │ (<span style=\"color: #00d7ff; text-decoration-color: #00d7ff\">None</span>, <span style=\"color: #00af00; text-decoration-color: #00af00\">111</span>, <span style=\"color: #00af00; text-decoration-color: #00af00\">111</span>, <span style=\"color: #00af00; text-decoration-color: #00af00\">32</span>)   │             <span style=\"color: #00af00; text-decoration-color: #00af00\">0</span> │\n",
              "├─────────────────────────────────┼────────────────────────┼───────────────┤\n",
              "│ conv2d_1 (<span style=\"color: #0087ff; text-decoration-color: #0087ff\">Conv2D</span>)               │ (<span style=\"color: #00d7ff; text-decoration-color: #00d7ff\">None</span>, <span style=\"color: #00af00; text-decoration-color: #00af00\">109</span>, <span style=\"color: #00af00; text-decoration-color: #00af00\">109</span>, <span style=\"color: #00af00; text-decoration-color: #00af00\">64</span>)   │        <span style=\"color: #00af00; text-decoration-color: #00af00\">18,496</span> │\n",
              "├─────────────────────────────────┼────────────────────────┼───────────────┤\n",
              "│ max_pooling2d_1 (<span style=\"color: #0087ff; text-decoration-color: #0087ff\">MaxPooling2D</span>)  │ (<span style=\"color: #00d7ff; text-decoration-color: #00d7ff\">None</span>, <span style=\"color: #00af00; text-decoration-color: #00af00\">54</span>, <span style=\"color: #00af00; text-decoration-color: #00af00\">54</span>, <span style=\"color: #00af00; text-decoration-color: #00af00\">64</span>)     │             <span style=\"color: #00af00; text-decoration-color: #00af00\">0</span> │\n",
              "├─────────────────────────────────┼────────────────────────┼───────────────┤\n",
              "│ conv2d_2 (<span style=\"color: #0087ff; text-decoration-color: #0087ff\">Conv2D</span>)               │ (<span style=\"color: #00d7ff; text-decoration-color: #00d7ff\">None</span>, <span style=\"color: #00af00; text-decoration-color: #00af00\">52</span>, <span style=\"color: #00af00; text-decoration-color: #00af00\">52</span>, <span style=\"color: #00af00; text-decoration-color: #00af00\">128</span>)    │        <span style=\"color: #00af00; text-decoration-color: #00af00\">73,856</span> │\n",
              "├─────────────────────────────────┼────────────────────────┼───────────────┤\n",
              "│ max_pooling2d_2 (<span style=\"color: #0087ff; text-decoration-color: #0087ff\">MaxPooling2D</span>)  │ (<span style=\"color: #00d7ff; text-decoration-color: #00d7ff\">None</span>, <span style=\"color: #00af00; text-decoration-color: #00af00\">26</span>, <span style=\"color: #00af00; text-decoration-color: #00af00\">26</span>, <span style=\"color: #00af00; text-decoration-color: #00af00\">128</span>)    │             <span style=\"color: #00af00; text-decoration-color: #00af00\">0</span> │\n",
              "├─────────────────────────────────┼────────────────────────┼───────────────┤\n",
              "│ flatten (<span style=\"color: #0087ff; text-decoration-color: #0087ff\">Flatten</span>)               │ (<span style=\"color: #00d7ff; text-decoration-color: #00d7ff\">None</span>, <span style=\"color: #00af00; text-decoration-color: #00af00\">86528</span>)          │             <span style=\"color: #00af00; text-decoration-color: #00af00\">0</span> │\n",
              "├─────────────────────────────────┼────────────────────────┼───────────────┤\n",
              "│ dense (<span style=\"color: #0087ff; text-decoration-color: #0087ff\">Dense</span>)                   │ (<span style=\"color: #00d7ff; text-decoration-color: #00d7ff\">None</span>, <span style=\"color: #00af00; text-decoration-color: #00af00\">128</span>)            │    <span style=\"color: #00af00; text-decoration-color: #00af00\">11,075,712</span> │\n",
              "├─────────────────────────────────┼────────────────────────┼───────────────┤\n",
              "│ dense_1 (<span style=\"color: #0087ff; text-decoration-color: #0087ff\">Dense</span>)                 │ (<span style=\"color: #00d7ff; text-decoration-color: #00d7ff\">None</span>, <span style=\"color: #00af00; text-decoration-color: #00af00\">64</span>)             │         <span style=\"color: #00af00; text-decoration-color: #00af00\">8,256</span> │\n",
              "├─────────────────────────────────┼────────────────────────┼───────────────┤\n",
              "│ dense_2 (<span style=\"color: #0087ff; text-decoration-color: #0087ff\">Dense</span>)                 │ (<span style=\"color: #00d7ff; text-decoration-color: #00d7ff\">None</span>, <span style=\"color: #00af00; text-decoration-color: #00af00\">1</span>)              │            <span style=\"color: #00af00; text-decoration-color: #00af00\">65</span> │\n",
              "└─────────────────────────────────┴────────────────────────┴───────────────┘\n",
              "</pre>\n"
            ]
          },
          "metadata": {}
        },
        {
          "output_type": "display_data",
          "data": {
            "text/plain": [
              "\u001b[1m Total params: \u001b[0m\u001b[38;5;34m11,177,281\u001b[0m (42.64 MB)\n"
            ],
            "text/html": [
              "<pre style=\"white-space:pre;overflow-x:auto;line-height:normal;font-family:Menlo,'DejaVu Sans Mono',consolas,'Courier New',monospace\"><span style=\"font-weight: bold\"> Total params: </span><span style=\"color: #00af00; text-decoration-color: #00af00\">11,177,281</span> (42.64 MB)\n",
              "</pre>\n"
            ]
          },
          "metadata": {}
        },
        {
          "output_type": "display_data",
          "data": {
            "text/plain": [
              "\u001b[1m Trainable params: \u001b[0m\u001b[38;5;34m11,177,281\u001b[0m (42.64 MB)\n"
            ],
            "text/html": [
              "<pre style=\"white-space:pre;overflow-x:auto;line-height:normal;font-family:Menlo,'DejaVu Sans Mono',consolas,'Courier New',monospace\"><span style=\"font-weight: bold\"> Trainable params: </span><span style=\"color: #00af00; text-decoration-color: #00af00\">11,177,281</span> (42.64 MB)\n",
              "</pre>\n"
            ]
          },
          "metadata": {}
        },
        {
          "output_type": "display_data",
          "data": {
            "text/plain": [
              "\u001b[1m Non-trainable params: \u001b[0m\u001b[38;5;34m0\u001b[0m (0.00 B)\n"
            ],
            "text/html": [
              "<pre style=\"white-space:pre;overflow-x:auto;line-height:normal;font-family:Menlo,'DejaVu Sans Mono',consolas,'Courier New',monospace\"><span style=\"font-weight: bold\"> Non-trainable params: </span><span style=\"color: #00af00; text-decoration-color: #00af00\">0</span> (0.00 B)\n",
              "</pre>\n"
            ]
          },
          "metadata": {}
        }
      ]
    },
    {
      "cell_type": "code",
      "source": [
        "# Compiles the model with specified parameters:\n",
        "# - Loss function: 'binary_crossentropy' is chosen for binary classification tasks,\n",
        "#   where the model predicts a probability distribution over two classes.\n",
        "# - Optimizer: 'adam' is an adaptive learning rate optimization algorithm that's\n",
        "#   well-suited for training deep neural networks.\n",
        "# - Metrics: ['accuracy'] evaluates the model's performance during training and\n",
        "#   testing based on the classification accuracy, which measures the proportion\n",
        "#   of correct predictions.\n",
        "model.compile(\n",
        "  loss='binary_crossentropy',\n",
        "  optimizer='adam',\n",
        "  metrics=['accuracy']\n",
        ")\n"
      ],
      "metadata": {
        "id": "Q4m-A33OEVJh"
      },
      "execution_count": 13,
      "outputs": []
    },
    {
      "cell_type": "code",
      "source": [
        "# Import the ImageDataGenerator class from TensorFlow's Keras preprocessing module.\n",
        "# This class is used to generate batches of tensor image data with real-time data augmentation.\n",
        "from tensorflow.keras.preprocessing.image import ImageDataGenerator\n",
        "\n",
        "# Create an ImageDataGenerator object for training data with several augmentations:\n",
        "# - rescale = 1./255: Normalizes the pixel values to the range [0, 1] by dividing by 255.\n",
        "# - shear_range = 0.2: Applies random shear transformations (slanting the image).\n",
        "# - zoom_range = 0.2: Randomly zooms inside images by up to 20%.\n",
        "# - horizontal_flip = True: Randomly flips images horizontally to make the model invariant to direction.\n",
        "train_datagen = ImageDataGenerator(\n",
        "    rescale=1./255,\n",
        "    shear_range=0.2,\n",
        "    zoom_range=0.2,\n",
        "    horizontal_flip=True\n",
        ")\n",
        "\n",
        "# Create an ImageDataGenerator object for test/validation data with only rescaling:\n",
        "# - rescale = 1./255: Normalizes the pixel values to [0, 1] range.\n",
        "# No augmentation is applied here to ensure evaluation is done on unmodified data.\n",
        "test_datagen = ImageDataGenerator(rescale=1./255)\n"
      ],
      "metadata": {
        "id": "UAwZGY2MEVC_"
      },
      "execution_count": 14,
      "outputs": []
    },
    {
      "cell_type": "code",
      "source": [
        "training_set = train_datagen.flow_from_directory(train_path,\n",
        "                                                 target_size = (224, 224),\n",
        "                                                 batch_size = 32,\n",
        "                                                 class_mode = 'binary')"
      ],
      "metadata": {
        "colab": {
          "base_uri": "https://localhost:8080/"
        },
        "id": "GokmDUnkFLO3",
        "outputId": "e60ced16-a903-404b-bf94-a4c3721e7292"
      },
      "execution_count": 15,
      "outputs": [
        {
          "output_type": "stream",
          "name": "stdout",
          "text": [
            "Found 294 images belonging to 2 classes.\n"
          ]
        }
      ]
    },
    {
      "cell_type": "code",
      "source": [
        "test_set = test_datagen.flow_from_directory(valid_path,\n",
        "                                            target_size = (224, 224),\n",
        "                                            batch_size = 32,\n",
        "                                            class_mode = 'binary')"
      ],
      "metadata": {
        "colab": {
          "base_uri": "https://localhost:8080/"
        },
        "id": "92iRgmyRFLM3",
        "outputId": "9b8d1349-a1b0-4fc4-f74a-889f8d06823f"
      },
      "execution_count": 16,
      "outputs": [
        {
          "output_type": "stream",
          "name": "stdout",
          "text": [
            "Found 97 images belonging to 2 classes.\n"
          ]
        }
      ]
    },
    {
      "cell_type": "code",
      "source": [
        "history = model.fit(\n",
        "  training_set,\n",
        "  validation_data=test_set,\n",
        "  epochs=20,\n",
        "  steps_per_epoch=len(training_set),\n",
        "  validation_steps=len(test_set)\n",
        ")"
      ],
      "metadata": {
        "colab": {
          "base_uri": "https://localhost:8080/"
        },
        "id": "ixYzK6kWFLKY",
        "outputId": "9b42c72b-3d16-4d5a-a8e4-a852303bd78a"
      },
      "execution_count": 17,
      "outputs": [
        {
          "output_type": "stream",
          "name": "stderr",
          "text": [
            "/usr/local/lib/python3.11/dist-packages/keras/src/trainers/data_adapters/py_dataset_adapter.py:121: UserWarning: Your `PyDataset` class should call `super().__init__(**kwargs)` in its constructor. `**kwargs` can include `workers`, `use_multiprocessing`, `max_queue_size`. Do not pass these arguments to `fit()`, as they will be ignored.\n",
            "  self._warn_if_super_not_called()\n"
          ]
        },
        {
          "output_type": "stream",
          "name": "stdout",
          "text": [
            "Epoch 1/20\n",
            "\u001b[1m10/10\u001b[0m \u001b[32m━━━━━━━━━━━━━━━━━━━━\u001b[0m\u001b[37m\u001b[0m \u001b[1m15s\u001b[0m 837ms/step - accuracy: 0.4589 - loss: 0.7518 - val_accuracy: 0.6804 - val_loss: 0.6294\n",
            "Epoch 2/20\n",
            "\u001b[1m10/10\u001b[0m \u001b[32m━━━━━━━━━━━━━━━━━━━━\u001b[0m\u001b[37m\u001b[0m \u001b[1m10s\u001b[0m 319ms/step - accuracy: 0.6607 - loss: 0.6216 - val_accuracy: 0.6701 - val_loss: 0.6139\n",
            "Epoch 3/20\n",
            "\u001b[1m10/10\u001b[0m \u001b[32m━━━━━━━━━━━━━━━━━━━━\u001b[0m\u001b[37m\u001b[0m \u001b[1m6s\u001b[0m 419ms/step - accuracy: 0.6814 - loss: 0.6115 - val_accuracy: 0.6495 - val_loss: 0.6303\n",
            "Epoch 4/20\n",
            "\u001b[1m10/10\u001b[0m \u001b[32m━━━━━━━━━━━━━━━━━━━━\u001b[0m\u001b[37m\u001b[0m \u001b[1m4s\u001b[0m 324ms/step - accuracy: 0.7201 - loss: 0.5937 - val_accuracy: 0.6701 - val_loss: 0.6397\n",
            "Epoch 5/20\n",
            "\u001b[1m10/10\u001b[0m \u001b[32m━━━━━━━━━━━━━━━━━━━━\u001b[0m\u001b[37m\u001b[0m \u001b[1m3s\u001b[0m 319ms/step - accuracy: 0.7006 - loss: 0.5776 - val_accuracy: 0.6804 - val_loss: 0.5124\n",
            "Epoch 6/20\n",
            "\u001b[1m10/10\u001b[0m \u001b[32m━━━━━━━━━━━━━━━━━━━━\u001b[0m\u001b[37m\u001b[0m \u001b[1m6s\u001b[0m 345ms/step - accuracy: 0.7614 - loss: 0.5102 - val_accuracy: 0.6186 - val_loss: 0.6751\n",
            "Epoch 7/20\n",
            "\u001b[1m10/10\u001b[0m \u001b[32m━━━━━━━━━━━━━━━━━━━━\u001b[0m\u001b[37m\u001b[0m \u001b[1m3s\u001b[0m 320ms/step - accuracy: 0.6833 - loss: 0.5734 - val_accuracy: 0.7216 - val_loss: 0.4960\n",
            "Epoch 8/20\n",
            "\u001b[1m10/10\u001b[0m \u001b[32m━━━━━━━━━━━━━━━━━━━━\u001b[0m\u001b[37m\u001b[0m \u001b[1m3s\u001b[0m 347ms/step - accuracy: 0.6955 - loss: 0.5922 - val_accuracy: 0.7629 - val_loss: 0.5187\n",
            "Epoch 9/20\n",
            "\u001b[1m10/10\u001b[0m \u001b[32m━━━━━━━━━━━━━━━━━━━━\u001b[0m\u001b[37m\u001b[0m \u001b[1m4s\u001b[0m 403ms/step - accuracy: 0.7401 - loss: 0.5099 - val_accuracy: 0.7629 - val_loss: 0.4863\n",
            "Epoch 10/20\n",
            "\u001b[1m10/10\u001b[0m \u001b[32m━━━━━━━━━━━━━━━━━━━━\u001b[0m\u001b[37m\u001b[0m \u001b[1m4s\u001b[0m 320ms/step - accuracy: 0.8345 - loss: 0.4378 - val_accuracy: 0.7423 - val_loss: 0.4246\n",
            "Epoch 11/20\n",
            "\u001b[1m10/10\u001b[0m \u001b[32m━━━━━━━━━━━━━━━━━━━━\u001b[0m\u001b[37m\u001b[0m \u001b[1m3s\u001b[0m 337ms/step - accuracy: 0.8000 - loss: 0.4209 - val_accuracy: 0.6907 - val_loss: 0.6395\n",
            "Epoch 12/20\n",
            "\u001b[1m10/10\u001b[0m \u001b[32m━━━━━━━━━━━━━━━━━━━━\u001b[0m\u001b[37m\u001b[0m \u001b[1m4s\u001b[0m 431ms/step - accuracy: 0.7524 - loss: 0.4945 - val_accuracy: 0.7113 - val_loss: 0.4926\n",
            "Epoch 13/20\n",
            "\u001b[1m10/10\u001b[0m \u001b[32m━━━━━━━━━━━━━━━━━━━━\u001b[0m\u001b[37m\u001b[0m \u001b[1m4s\u001b[0m 315ms/step - accuracy: 0.8108 - loss: 0.4319 - val_accuracy: 0.7526 - val_loss: 0.4353\n",
            "Epoch 14/20\n",
            "\u001b[1m10/10\u001b[0m \u001b[32m━━━━━━━━━━━━━━━━━━━━\u001b[0m\u001b[37m\u001b[0m \u001b[1m3s\u001b[0m 324ms/step - accuracy: 0.7950 - loss: 0.4662 - val_accuracy: 0.7629 - val_loss: 0.4463\n",
            "Epoch 15/20\n",
            "\u001b[1m10/10\u001b[0m \u001b[32m━━━━━━━━━━━━━━━━━━━━\u001b[0m\u001b[37m\u001b[0m \u001b[1m4s\u001b[0m 443ms/step - accuracy: 0.8034 - loss: 0.4009 - val_accuracy: 0.8247 - val_loss: 0.4425\n",
            "Epoch 16/20\n",
            "\u001b[1m10/10\u001b[0m \u001b[32m━━━━━━━━━━━━━━━━━━━━\u001b[0m\u001b[37m\u001b[0m \u001b[1m4s\u001b[0m 319ms/step - accuracy: 0.8468 - loss: 0.3648 - val_accuracy: 0.7423 - val_loss: 0.5161\n",
            "Epoch 17/20\n",
            "\u001b[1m10/10\u001b[0m \u001b[32m━━━━━━━━━━━━━━━━━━━━\u001b[0m\u001b[37m\u001b[0m \u001b[1m3s\u001b[0m 356ms/step - accuracy: 0.8113 - loss: 0.4122 - val_accuracy: 0.7732 - val_loss: 0.4678\n",
            "Epoch 18/20\n",
            "\u001b[1m10/10\u001b[0m \u001b[32m━━━━━━━━━━━━━━━━━━━━\u001b[0m\u001b[37m\u001b[0m \u001b[1m4s\u001b[0m 409ms/step - accuracy: 0.8687 - loss: 0.3166 - val_accuracy: 0.7732 - val_loss: 0.5254\n",
            "Epoch 19/20\n",
            "\u001b[1m10/10\u001b[0m \u001b[32m━━━━━━━━━━━━━━━━━━━━\u001b[0m\u001b[37m\u001b[0m \u001b[1m4s\u001b[0m 321ms/step - accuracy: 0.8707 - loss: 0.2948 - val_accuracy: 0.7732 - val_loss: 0.4375\n",
            "Epoch 20/20\n",
            "\u001b[1m10/10\u001b[0m \u001b[32m━━━━━━━━━━━━━━━━━━━━\u001b[0m\u001b[37m\u001b[0m \u001b[1m3s\u001b[0m 314ms/step - accuracy: 0.8836 - loss: 0.2830 - val_accuracy: 0.7629 - val_loss: 0.4831\n"
          ]
        }
      ]
    },
    {
      "cell_type": "code",
      "source": [
        "import matplotlib.pyplot as plt\n",
        "# plot the loss\n",
        "plt.plot(history.history['loss'], label='train loss')\n",
        "plt.plot(history.history['val_loss'], label='val loss')\n",
        "plt.legend()\n",
        "plt.show()\n",
        "plt.savefig('LossVal_loss')"
      ],
      "metadata": {
        "colab": {
          "base_uri": "https://localhost:8080/",
          "height": 447
        },
        "id": "8gIvBhTBGPXw",
        "outputId": "71e7d1fd-bcc8-4376-83cc-3817bad38aa9"
      },
      "execution_count": 18,
      "outputs": [
        {
          "output_type": "display_data",
          "data": {
            "text/plain": [
              "<Figure size 640x480 with 1 Axes>"
            ],
            "image/png": "[encoded data removed]"
          },
          "metadata": {}
        },
        {
          "output_type": "display_data",
          "data": {
            "text/plain": [
              "<Figure size 640x480 with 0 Axes>"
            ]
          },
          "metadata": {}
        }
      ]
    },
    {
      "cell_type": "code",
      "source": [
        "# plot the accuracy\n",
        "plt.plot(history.history['accuracy'], label='train acc')\n",
        "plt.plot(history.history['val_accuracy'], label='val acc')\n",
        "plt.legend()\n",
        "plt.show()\n",
        "plt.savefig('AccVal_acc')"
      ],
      "metadata": {
        "colab": {
          "base_uri": "https://localhost:8080/",
          "height": 450
        },
        "id": "o-H01DOIGPUZ",
        "outputId": "cf8ed05a-b7a6-4b30-8f7d-fe5173894cbd"
      },
      "execution_count": 19,
      "outputs": [
        {
          "output_type": "display_data",
          "data": {
            "text/plain": [
              "<Figure size 640x480 with 1 Axes>"
            ],
            "image/png": "[encoded data removed]"
          },
          "metadata": {}
        },
        {
          "output_type": "display_data",
          "data": {
            "text/plain": [
              "<Figure size 640x480 with 0 Axes>"
            ]
          },
          "metadata": {}
        }
      ]
    },
    {
      "cell_type": "code",
      "source": [
        "model.evaluate(test_set)"
      ],
      "metadata": {
        "colab": {
          "base_uri": "https://localhost:8080/"
        },
        "id": "4RoSQloNHXgY",
        "outputId": "0656a559-9378-4cd7-df4d-24fde1f91647"
      },
      "execution_count": 20,
      "outputs": [
        {
          "output_type": "stream",
          "name": "stdout",
          "text": [
            "\u001b[1m4/4\u001b[0m \u001b[32m━━━━━━━━━━━━━━━━━━━━\u001b[0m\u001b[37m\u001b[0m \u001b[1m0s\u001b[0m 35ms/step - accuracy: 0.7666 - loss: 0.4800\n"
          ]
        },
        {
          "output_type": "execute_result",
          "data": {
            "text/plain": [
              "[0.4831317663192749, 0.7628865838050842]"
            ]
          },
          "metadata": {},
          "execution_count": 20
        }
      ]
    },
    {
      "cell_type": "code",
      "source": [
        "model.save('model.h5')"
      ],
      "metadata": {
        "colab": {
          "base_uri": "https://localhost:8080/"
        },
        "id": "7ZFkoBjRHXd4",
        "outputId": "552ddb49-bf64-41e3-e924-7848a842b200"
      },
      "execution_count": 21,
      "outputs": [
        {
          "output_type": "stream",
          "name": "stderr",
          "text": [
            "WARNING:absl:You are saving your model as an HDF5 file via `model.save()` or `keras.saving.save_model(model)`. This file format is considered legacy. We recommend using instead the native Keras format, e.g. `model.save('my_model.keras')` or `keras.saving.save_model(model, 'my_model.keras')`. \n"
          ]
        }
      ]
    },
    {
      "cell_type": "code",
      "source": [
        "from tensorflow.keras.models import load_model"
      ],
      "metadata": {
        "id": "smpqfhli0abg"
      },
      "execution_count": 22,
      "outputs": []
    },
    {
      "cell_type": "code",
      "source": [
        "model = load_model(\"model.h5\")"
      ],
      "metadata": {
        "colab": {
          "base_uri": "https://localhost:8080/"
        },
        "id": "oNWh3uboHXbQ",
        "outputId": "fa34c8be-90d1-4369-d511-b430c992f4c4"
      },
      "execution_count": 23,
      "outputs": [
        {
          "output_type": "stream",
          "name": "stderr",
          "text": [
            "WARNING:absl:Compiled the loaded model, but the compiled metrics have yet to be built. `model.compile_metrics` will be empty until you train or evaluate the model.\n"
          ]
        }
      ]
    },
    {
      "cell_type": "code",
      "source": [
        "from tensorflow.keras.preprocessing import image"
      ],
      "metadata": {
        "id": "AFBbjZ_sHXX4"
      },
      "execution_count": 24,
      "outputs": []
    },
    {
      "cell_type": "code",
      "source": [
        "img=image.load_img('/content/images (1).jpg',target_size=(224,224))"
      ],
      "metadata": {
        "id": "_8tAFIUDHtwo"
      },
      "execution_count": 32,
      "outputs": []
    },
    {
      "cell_type": "code",
      "source": [
        "img"
      ],
      "metadata": {
        "colab": {
          "base_uri": "https://localhost:8080/",
          "height": 241
        },
        "id": "OS08bGmMHtuI",
        "outputId": "d2a16b76-2c7f-4405-b8c2-86763e6a9cc7"
      },
      "execution_count": 33,
      "outputs": [
        {
          "output_type": "execute_result",
          "data": {
            "text/plain": [
              "<PIL.Image.Image image mode=RGB size=224x224>"
            ],
            "image/png": "[encoded data removed]",
            "image/jpeg": "[encoded data removed]"
          },
          "metadata": {},
          "execution_count": 33
        }
      ]
    },
    {
      "cell_type": "code",
      "source": [
        "import numpy as np"
      ],
      "metadata": {
        "id": "AS4k-H0m1lXY"
      },
      "execution_count": 34,
      "outputs": []
    },
    {
      "cell_type": "code",
      "source": [
        "x=image.img_to_array(img)\n",
        "x=x/255\n",
        "\n",
        "x=np.expand_dims(x,axis=0)\n",
        "output = model.predict(x)\n",
        "print(output)"
      ],
      "metadata": {
        "colab": {
          "base_uri": "https://localhost:8080/"
        },
        "id": "6qtnsBX41gkP",
        "outputId": "f6251b44-04cb-4aa9-9f9e-3544393ca686"
      },
      "execution_count": 35,
      "outputs": [
        {
          "output_type": "stream",
          "name": "stdout",
          "text": [
            "\u001b[1m1/1\u001b[0m \u001b[32m━━━━━━━━━━━━━━━━━━━━\u001b[0m\u001b[37m\u001b[0m \u001b[1m0s\u001b[0m 33ms/step\n",
            "[[0.46547997]]\n"
          ]
        }
      ]
    },
    {
      "cell_type": "code",
      "source": [
        "x.shape"
      ],
      "metadata": {
        "colab": {
          "base_uri": "https://localhost:8080/"
        },
        "id": "p7TiDzc83PXJ",
        "outputId": "11794b78-072e-481d-b46a-8a52ae867601"
      },
      "execution_count": 36,
      "outputs": [
        {
          "output_type": "execute_result",
          "data": {
            "text/plain": [
              "(1, 224, 224, 3)"
            ]
          },
          "metadata": {},
          "execution_count": 36
        }
      ]
    },
    {
      "cell_type": "code",
      "source": [
        "output[0][0]"
      ],
      "metadata": {
        "colab": {
          "base_uri": "https://localhost:8080/"
        },
        "id": "9i4mnOYn24VA",
        "outputId": "6197d259-0265-4a92-b280-c0b43d5034b8"
      },
      "execution_count": 37,
      "outputs": [
        {
          "output_type": "execute_result",
          "data": {
            "text/plain": [
              "np.float32(0.46547997)"
            ]
          },
          "metadata": {},
          "execution_count": 37
        }
      ]
    },
    {
      "cell_type": "code",
      "source": [
        "if output[0][0] >=0.5:\n",
        "    prediction = 'Tomato'\n",
        "    print(prediction)\n",
        "else:\n",
        "    prediction = 'Apple'\n",
        "    print(prediction)"
      ],
      "metadata": {
        "colab": {
          "base_uri": "https://localhost:8080/"
        },
        "id": "mDxB34vlIN3o",
        "outputId": "564dad0c-a1cf-49c9-c503-f259260944e4"
      },
      "execution_count": 38,
      "outputs": [
        {
          "output_type": "stream",
          "name": "stdout",
          "text": [
            "Apple\n"
          ]
        }
      ]
    }
  ]
}